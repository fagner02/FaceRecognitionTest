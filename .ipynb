{
 "cells": [
  {
   "cell_type": "code",
   "execution_count": 4,
   "id": "14ca7b04",
   "metadata": {},
   "outputs": [],
   "source": [
    "import math\n",
    "import torch\n",
    "import torch.nn as nn\n",
    "import torch.nn.functional as F\n",
    "\n",
    "class ArcFace(nn.Module):\n",
    "    def __init__(self, in_features, out_features, s=30.0, m=0.5):\n",
    "        super(ArcFace, self).__init__()\n",
    "        self.s = s  # Scaling factor\n",
    "        self.m = m  # Margin\n",
    "        self.W = nn.Parameter(torch.randn(out_features, in_features))  # Weight matrix\n",
    "        self.cos_m = math.cos(m)\n",
    "        self.sin_m = math.sin(m)\n",
    "        self.th = math.cos(math.pi - m)\n",
    "        self.mm = math.sin(math.pi - m) * m\n",
    "\n",
    "    def forward(self, features, labels):\n",
    "        # Normalize features and weights\n",
    "        cosine = F.linear(F.normalize(features), F.normalize(self.W))\n",
    "        sine = torch.sqrt((1.0 - torch.pow(cosine, 2)).clamp(0, 1))\n",
    "\n",
    "        # Compute phi (cos(theta + m))\n",
    "        phi = cosine * self.cos_m - sine * self.sin_m\n",
    "\n",
    "        # Apply margin only to the correct class\n",
    "        one_hot = torch.zeros_like(cosine)\n",
    "        one_hot.scatter_(1, labels.view(-1, 1), 1)\n",
    "\n",
    "        output = (one_hot * phi) + ((1.0 - one_hot) * cosine)\n",
    "        output *= self.s\n",
    "\n",
    "        return output"
   ]
  },
  {
   "cell_type": "code",
   "execution_count": 5,
   "id": "84f0453d",
   "metadata": {},
   "outputs": [],
   "source": [
    "class FaceModel(nn.Module):\n",
    "    def __init__(self, embedding_size=512, num_classes=10):\n",
    "        super(FaceModel, self).__init__()\n",
    "        self.backbone = nn.Sequential(\n",
    "            nn.Linear(128, 256),\n",
    "            nn.ReLU(),\n",
    "            nn.Linear(256, embedding_size)\n",
    "        )\n",
    "        self.arcface = ArcFace(embedding_size, num_classes)\n",
    "\n",
    "    def forward(self, x, labels=None):\n",
    "        embeddings = self.backbone(x)\n",
    "        if labels is not None:\n",
    "            return self.arcface(embeddings, labels)\n",
    "        else:\n",
    "            return embeddings"
   ]
  },
  {
   "cell_type": "code",
   "execution_count": null,
   "id": "7c6523c9",
   "metadata": {},
   "outputs": [
    {
     "name": "stdout",
     "output_type": "stream",
     "text": [
      "Epoch 1/5, Loss: 15.5128\n",
      "Epoch 2/5, Loss: 15.0218\n",
      "Epoch 3/5, Loss: 14.9976\n",
      "Epoch 4/5, Loss: 13.6927\n",
      "Epoch 5/5, Loss: 12.8411\n"
     ]
    }
   ],
   "source": [
    "import torch.optim as optim\n",
    "\n",
    "# Hyperparameters\n",
    "embedding_size = 512\n",
    "num_classes = 10\n",
    "batch_size = 32\n",
    "learning_rate = 0.001\n",
    "epochs = 5\n",
    "\n",
    "# Initialize model, loss function, optimizer\n",
    "model = FaceModel(embedding_size=embedding_size, num_classes=num_classes)\n",
    "criterion = nn.CrossEntropyLoss()\n",
    "optimizer = optim.Adam(model.parameters(), lr=learning_rate)\n",
    "\n",
    "# Synthetic data\n",
    "features = torch.randn(1000, 128)  # 1000 samples, 128-dim input\n",
    "labels = torch.randint(0, num_classes, (1000,))\n",
    "\n",
    "# DataLoader\n",
    "dataset = torch.utils.data.TensorDataset(features, labels)\n",
    "loader = torch.utils.data.DataLoader(dataset, batch_size=batch_size, shuffle=True)\n",
    "\n",
    "# Training loop\n",
    "for epoch in range(epochs):\n",
    "    for inputs, targets in loader:\n",
    "        outputs = model(inputs, targets)\n",
    "        loss = criterion(outputs, targets)\n",
    "\n",
    "        optimizer.zero_grad()\n",
    "        loss.backward()\n",
    "        optimizer.step()\n",
    "\n",
    "    print(f\"Epoch {epoch+1}/{epochs}, Loss: {loss.item():.4f}\")"
   ]
  }
 ],
 "metadata": {
  "kernelspec": {
   "display_name": "Python 3",
   "language": "python",
   "name": "python3"
  },
  "language_info": {
   "codemirror_mode": {
    "name": "ipython",
    "version": 3
   },
   "file_extension": ".py",
   "mimetype": "text/x-python",
   "name": "python",
   "nbconvert_exporter": "python",
   "pygments_lexer": "ipython3",
   "version": "3.13.5"
  }
 },
 "nbformat": 4,
 "nbformat_minor": 5
}
